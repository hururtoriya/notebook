{
 "cells": [
  {
   "cell_type": "code",
   "execution_count": 1,
   "metadata": {
    "collapsed": false,
    "deletable": true,
    "editable": true
   },
   "outputs": [
    {
     "name": "stdout",
     "output_type": "stream",
     "text": [
      "nbdiff nb_1.ipynb nb_2.ipynb\r\n",
      "--- nb_1.ipynb  2017-02-02 11:00:48\r\n",
      "+++ nb_2.ipynb  2017-02-02 11:01:07\r\n",
      "\u001b[34m## inserted before /cells/0/outputs/0:\u001b[0m\r\n",
      "\u001b[32m+  output:\r\n",
      "\u001b[32m+    output_type: display_data\r\n",
      "\u001b[32m+    data:\r\n",
      "\u001b[32m+      image/png: iVBORw0K...<snip base64, md5=052a34b732d64628...>\r\n",
      "\u001b[32m+      text/plain: <matplotlib.figure.Figure at 0x11037dcc0>\r\n",
      "\r\n",
      "\u001b[0m\u001b[34m## deleted /cells/0/outputs/0:\u001b[0m\r\n",
      "\u001b[31m-  output:\r\n",
      "\u001b[31m-    output_type: display_data\r\n",
      "\u001b[31m-    data:\r\n",
      "\u001b[31m-      image/png: iVBORw0K...<snip base64, md5=657f3d90cea1a3d0...>\r\n",
      "\u001b[31m-      text/plain: <matplotlib.figure.Figure at 0x10ba48cc0>\r\n",
      "\r\n",
      "\u001b[0m\u001b[34m## modified /cells/0/source:\u001b[0m\r\n",
      "\u001b[36m@@ -8,6 +8,6 @@\u001b[m \u001b[my = np.sin(4 * np.pi * x) * np.exp(-5 * x)\u001b[m\r\n",
      "\r\n",
      "fig, ax = plt.subplots()\u001b[m\r\n",
      "\r\n",
      "ax.fill(x, y, \u001b[31mzorder=10,facecolor='green')\u001b[m\u001b[32mzorder=10,facecolor='black')\u001b[m\r\n",
      "ax.grid(True, zorder=5)\u001b[m\r\n",
      "plt.show()\u001b[m\r\n",
      "\r\n",
      "\u001b[0m"
     ]
    }
   ],
   "source": [
    "! nbdiff nb_1.ipynb nb_2.ipynb"
   ]
  },
  {
   "cell_type": "code",
   "execution_count": null,
   "metadata": {
    "collapsed": false,
    "deletable": true,
    "editable": true
   },
   "outputs": [
    {
     "name": "stdout",
     "output_type": "stream",
     "text": [
      "[I nbdimeserver:274] Listening on 127.0.0.1, port 49568\n",
      "[I nbdiffweb:48] URL: http://127.0.0.1:49568/diff?base=nb_1.ipynb&remote=nb_2.ipynb\n",
      "[I web:1971] 200 GET /diff?base=nb_1.ipynb&remote=nb_2.ipynb (127.0.0.1) 27.96ms\n",
      "[I web:1971] 200 GET /static/nbdime.js?v=ce2758430f38b0ad261242e2b658a8e4 (127.0.0.1) 111.96ms\n",
      "[I web:1971] 200 POST /api/diff (127.0.0.1) 28.23ms\n",
      "[W web:1971] 404 GET /favicon.ico (127.0.0.1) 1.20ms\n"
     ]
    }
   ],
   "source": [
    "! nbdiff-web nb_1.ipynb nb_2.ipynb"
   ]
  },
  {
   "cell_type": "code",
   "execution_count": null,
   "metadata": {
    "collapsed": true,
    "deletable": true,
    "editable": true
   },
   "outputs": [],
   "source": []
  }
 ],
 "metadata": {
  "kernelspec": {
   "display_name": "Python 3",
   "language": "python",
   "name": "python3"
  },
  "language_info": {
   "codemirror_mode": {
    "name": "ipython",
    "version": 3
   },
   "file_extension": ".py",
   "mimetype": "text/x-python",
   "name": "python",
   "nbconvert_exporter": "python",
   "pygments_lexer": "ipython3",
   "version": "3.6.0"
  }
 },
 "nbformat": 4,
 "nbformat_minor": 2
}
