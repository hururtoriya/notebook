{
 "cells": [
  {
   "cell_type": "markdown",
   "metadata": {},
   "source": [
    "# Note\n",
    "- Constant Value : We use capital charctor.\n",
    "- `-x`  inverse sign\n",
    "- `+x` unchange sign"
   ]
  },
  {
   "cell_type": "code",
   "execution_count": 4,
   "metadata": {
    "collapsed": false
   },
   "outputs": [
    {
     "name": "stdout",
     "output_type": "stream",
     "text": [
      "[2, 3, 'a']\n",
      "[2]\n"
     ]
    }
   ],
   "source": [
    "# Slice\n",
    "x = [1, 2, 3, 'a', 'b', 'C']\n",
    "print(x[1:4])\n",
    "print(x[1:2])"
   ]
  },
  {
   "cell_type": "code",
   "execution_count": 7,
   "metadata": {
    "collapsed": false
   },
   "outputs": [
    {
     "name": "stdout",
     "output_type": "stream",
     "text": [
      "[1, 4, 9, 16, 25, 36, 49, 64, 81, 100]\n",
      "[1, 4, 9, 16, 25, 36, 49, 64, 81, 100]\n"
     ]
    }
   ],
   "source": [
    "# List Comprehesions  is high speed than normal\n",
    "result = [x**2 for x in range(1,11)]\n",
    "print(result)\n",
    "# Normal\n",
    "result = []\n",
    "for i in range(1,11):\n",
    "    result.append(i**2)\n",
    "print(result)"
   ]
  },
  {
   "cell_type": "code",
   "execution_count": 12,
   "metadata": {
    "collapsed": false
   },
   "outputs": [
    {
     "name": "stdout",
     "output_type": "stream",
     "text": [
      "Spamが削除されました\n"
     ]
    }
   ],
   "source": [
    "# Class\n",
    "class Spam:\n",
    "    # Constructer\n",
    "    def __init__(self, ham, egg):\n",
    "        self.ham = ham\n",
    "        self.egg = egg\n",
    "    # Destracter\n",
    "    def __del__(self):\n",
    "        print(\"Spamが削除されました\")\n",
    "\n",
    "spam = Spam(5, 10)\n",
    "del spam"
   ]
  },
  {
   "cell_type": "code",
   "execution_count": null,
   "metadata": {
    "collapsed": true
   },
   "outputs": [],
   "source": []
  }
 ],
 "metadata": {
  "kernelspec": {
   "display_name": "Python 3",
   "language": "python",
   "name": "python3"
  },
  "language_info": {
   "codemirror_mode": {
    "name": "ipython",
    "version": 3
   },
   "file_extension": ".py",
   "mimetype": "text/x-python",
   "name": "python",
   "nbconvert_exporter": "python",
   "pygments_lexer": "ipython3",
   "version": "3.5.1"
  }
 },
 "nbformat": 4,
 "nbformat_minor": 0
}
